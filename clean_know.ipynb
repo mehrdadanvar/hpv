{
 "cells": [
  {
   "cell_type": "code",
   "execution_count": null,
   "metadata": {},
   "outputs": [],
   "source": [
    "import pandas as pd\n",
    "import numpy as np\n",
    "df = pd.read_csv(\"./hpv/final1.csv\")\n",
    "print(df.columns)\n",
    "print(df.shape)\n",
    "for x in df.columns:\n",
    "    if pd.isna(df[x][0]):\n",
    "        print(x + \"is being droped\")\n",
    "        df = df.drop(x, axis=1)\n",
    "\n",
    "print(df.shape)\n",
    "without_names = df.columns[df.columns.str.contains(\"Unnamed\")]\n",
    "print(without_names)\n",
    "df.drop(list(without_names),axis=1,inplace=True)\n",
    "# df = df.drop(1,axis=0)\n",
    "df.head(3)\n",
    "print(df.columns)\n",
    "demographic_names = df.columns[df.columns.str.startswith(\"d_\")]\n",
    "knowledge_names = df.columns[df.columns.str.startswith(\"k_\")]\n",
    "belief_names = df.columns[df.columns.str.startswith(\"b_\")]\n",
    "\n",
    "dem = df[demographic_names]\n",
    "know = df[knowledge_names]"
   ]
  },
  {
   "cell_type": "code",
   "execution_count": null,
   "metadata": {},
   "outputs": [],
   "source": [
    "pos = [\"Genital Warts\",\"Cancer of the penis and anus\"]\n",
    "def correct(row):\n",
    "    answers = row[\"k_dxm\"].split(\",\")\n",
    "    answers = [x.strip() for x in answers]\n",
    "    print(answers)\n",
    "    score = 0\n",
    "    if pos[0] in answers:\n",
    "        score +=1\n",
    "    if pos[1] in answers:\n",
    "        score +=1\n",
    "    return score\n",
    "\n",
    "\n",
    "know[\"k_dxm_1\"] = know.apply(lambda row:correct(row), axis=1)\n",
    "know[\"k_dxm_1\"]"
   ]
  },
  {
   "cell_type": "code",
   "execution_count": null,
   "metadata": {},
   "outputs": [],
   "source": [
    "know[\"k_transmission\"].unique()\n",
    "options = [\"Kissing or having oral sex with the infected person.\",\"Sexual intercourse with the infected individual.\"]\n",
    "\n",
    "def correct_transmission(row):\n",
    "    answers = row[\"k_transmission\"].split(\",\")\n",
    "    answers = [x.strip() for x  in answers]\n",
    "    score = 0\n",
    "    if options[0] in answers:\n",
    "        score+=1\n",
    "    if options[1] in answers:\n",
    "        score+=1\n",
    "    return score\n",
    "\n",
    "know[\"k_transmission_1\"] = know.apply(lambda row:correct_transmission(row), axis=1)\n",
    "\n",
    "print(know[\"k_transmission_1\"])"
   ]
  },
  {
   "cell_type": "code",
   "execution_count": null,
   "metadata": {},
   "outputs": [],
   "source": [
    "know[\"k_protection\"].unique()\n",
    "protection = [\"Avoid shaking hands as much as possible.\",\"Use a condom or other protective barriers.\",\"Limit my sexual partners.\",\"Receiving the HPV vaccine.\"]\n",
    "def correct_protection(row):\n",
    "    ans = row[\"k_protection\"].split(\",\")\n",
    "    ans =[x.strip() for x in ans]\n",
    "    score = 0\n",
    "    if protection[3] in ans:\n",
    "        score+=2\n",
    "    if protection[2] in ans:\n",
    "        score+=1\n",
    "    if protection[1] in ans:\n",
    "        score+=1\n",
    "    return score\n",
    "know[\"k_protection_1\"] = know.apply(lambda x:correct_protection(x), axis=1)\n",
    "know[\"k_protection_1\"]\n",
    "\n"
   ]
  },
  {
   "cell_type": "code",
   "execution_count": null,
   "metadata": {},
   "outputs": [],
   "source": [
    "age = list(know[\"k_age_range\"].unique())\n",
    "print(age)\n",
    "def correct_age(row):\n",
    "    ans = row[\"k_age_range\"]\n",
    "    print(ans)\n",
    "    score = 0\n",
    "    if age[3] in ans:\n",
    "        score+=1\n",
    "    return score\n",
    "\n",
    "know[\"k_age_range_1\"] = know.apply(lambda x:correct_age(x),axis=1)\n",
    "print(know[\"k_age_range_1\"])"
   ]
  },
  {
   "cell_type": "code",
   "execution_count": null,
   "metadata": {},
   "outputs": [],
   "source": [
    "\n",
    "standard = [\"No\",\"Yes\",\"I am not sure.\"]\n",
    "def correct_heard(row):\n",
    "    ans = row[\"k_heard\"]\n",
    "    print(ans)\n",
    "    score = 0\n",
    "    if standard[1] in ans:\n",
    "        score+=1\n",
    "    return score\n",
    "know[\"k_heard_1\"] = know.apply(lambda x:correct_heard(x), axis=1)\n",
    "print(know[\"k_heard_1\"])"
   ]
  },
  {
   "cell_type": "code",
   "execution_count": null,
   "metadata": {},
   "outputs": [],
   "source": [
    "know[\"k_self_limited\"].unique()\n",
    "vec = [\"FALSE\",\"TRUE\",\"I am not sure.\"]\n",
    "def correct_early_sex(row):\n",
    "    ans = row[\"k_self_limited\"]\n",
    "    print(ans)\n",
    "    score = 0\n",
    "    if vec[1] in ans:\n",
    "        score+=1\n",
    "    return score\n",
    "know[\"k_self_limited_1\"] = know.apply(lambda x:correct_early_sex(x), axis=1)\n",
    "print(know[\"k_self_limited_1\"])"
   ]
  },
  {
   "cell_type": "code",
   "execution_count": null,
   "metadata": {},
   "outputs": [],
   "source": [
    "know[\"k_early_sex\"].unique()\n",
    "vec = [\"FALSE\",\"TRUE\",\"I am not sure.\"]\n",
    "def correct_early_sex(row):\n",
    "    ans = row[\"k_early_sex\"]\n",
    "    print(ans)\n",
    "    score = 0\n",
    "    if vec[1] in ans:\n",
    "        score+=1\n",
    "    return score\n",
    "know[\"k_early_sex_1\"] = know.apply(lambda x:correct_early_sex(x), axis=1)\n",
    "print(know[\"k_early_sex_1\"])"
   ]
  },
  {
   "cell_type": "code",
   "execution_count": null,
   "metadata": {},
   "outputs": [],
   "source": [
    "know[\"k_self_limited\"].unique()\n",
    "vec = [\"FALSE\",\"TRUE\",\"I am not sure.\"]\n",
    "def correct_self_linit(row):\n",
    "    ans = row[\"k_self_limited\"]\n",
    "    print(ans)\n",
    "    score = 0\n",
    "    if vec[1] in ans:\n",
    "        score+=1\n",
    "    return score\n",
    "know[\"k_self_limited_1\"] = know.apply(lambda x:correct_self_linit(x), axis=1)\n",
    "print(know[\"k_self_limited_1\"])"
   ]
  },
  {
   "cell_type": "code",
   "execution_count": null,
   "metadata": {},
   "outputs": [],
   "source": [
    "know[\"k_condom\"].unique()\n",
    "vec = [\"FALSE\",\"TRUE\",\"I am not sure.\"]\n",
    "def correct_condom(row):\n",
    "    ans = row[\"k_condom\"]\n",
    "    print(ans)\n",
    "    score = 0\n",
    "    if vec[1] in ans:\n",
    "        score+=1\n",
    "    return score\n",
    "know[\"k_condom_1\"] = know.apply(lambda x:correct_condom(x), axis=1)\n",
    "print(know[\"k_condom_1\"])"
   ]
  },
  {
   "cell_type": "code",
   "execution_count": null,
   "metadata": {},
   "outputs": [],
   "source": [
    "vec = [\"FALSE\",\"TRUE\",\"I am not sure.\"]\n",
    "def correct_multiple_sex(row):\n",
    "    ans = row[\"k_multiple_sex\"]\n",
    "    print(ans)\n",
    "    score = 0\n",
    "    if vec[0] in ans:\n",
    "        score+=1\n",
    "    return score\n",
    "know[\"k_multiple_sex_1\"] = know.apply(lambda x:correct_multiple_sex(x), axis=1)\n",
    "print(know[\"k_multiple_sex_1\"])"
   ]
  },
  {
   "cell_type": "code",
   "execution_count": null,
   "metadata": {},
   "outputs": [],
   "source": [
    "know[\"k_early_symptom\"]\n",
    "vec = [\"FALSE\",\"TRUE\",\"I am not sure.\"]\n",
    "def correct_multiple_sex(row):\n",
    "    ans = row[\"k_early_symptom\"]\n",
    "    print(ans)\n",
    "    score = 0\n",
    "    if vec[0] in ans:\n",
    "        score+=1\n",
    "    return score\n",
    "know[\"k_early_symptom_1\"] = know.apply(lambda x:correct_multiple_sex(x), axis=1)\n",
    "print(know[\"k_early_symptom_1\"])"
   ]
  },
  {
   "cell_type": "code",
   "execution_count": null,
   "metadata": {},
   "outputs": [],
   "source": [
    "vec = [\"FALSE\",\"TRUE\",\"I am not sure.\"]\n",
    "def correct_both_gender(row):\n",
    "    ans = row[\"k_both_gender\"]\n",
    "    print(ans)\n",
    "    score = 0\n",
    "    if vec[1] in ans:\n",
    "        score+=1\n",
    "    return score\n",
    "know[\"k_both_gender_1\"] = know.apply(lambda x:correct_both_gender(x), axis=1)\n",
    "print(know[\"k_both_gender_1\"])"
   ]
  },
  {
   "cell_type": "code",
   "execution_count": null,
   "metadata": {},
   "outputs": [],
   "source": [
    "vec = [\"FALSE\",\"TRUE\",\"I am not sure.\"]\n",
    "def correct_lowrisk(row):\n",
    "    ans = row[\"k_lowrisk\"]\n",
    "    print(ans)\n",
    "    score = 0\n",
    "    if vec[1] in ans:\n",
    "        score+=1\n",
    "    return score\n",
    "know[\"k_lowrisk_1\"] = know.apply(lambda x:correct_lowrisk(x), axis=1)\n",
    "print(know[\"k_lowrisk_1\"])"
   ]
  },
  {
   "cell_type": "code",
   "execution_count": null,
   "metadata": {},
   "outputs": [],
   "source": [
    "vec = [\"FALSE\",\"TRUE\",\"I am not sure.\"]\n",
    "def correct_genwart(row):\n",
    "    ans = row[\"k_gen_wart\"]\n",
    "    print(ans)\n",
    "    score = 0\n",
    "    if vec[1] in ans:\n",
    "        score+=1\n",
    "    return score\n",
    "know[\"k_gen_wart_1\"] = know.apply(lambda x:correct_genwart(x), axis=1)\n",
    "print(know[\"k_gen_wart_1\"])"
   ]
  },
  {
   "cell_type": "code",
   "execution_count": null,
   "metadata": {},
   "outputs": [],
   "source": [
    "vec = [\"FALSE\",\"TRUE\",\"I am not sure.\"]\n",
    "def correct_common(row):\n",
    "    ans = row[\"k_common\"]\n",
    "    print(ans)\n",
    "    score = 0\n",
    "    if vec[1] in ans:\n",
    "        score+=1\n",
    "    return score\n",
    "know[\"k_common_1\"] = know.apply(lambda x:correct_common(x), axis=1)\n",
    "print(know[\"k_common_1\"])"
   ]
  },
  {
   "cell_type": "code",
   "execution_count": null,
   "metadata": {},
   "outputs": [],
   "source": [
    "vec = [\"FALSE\",\"TRUE\",\"I am not sure.\"]\n",
    "def correct_cancer(row):\n",
    "    ans = row[\"k_cancer\"]\n",
    "    print(ans)\n",
    "    score = 0\n",
    "    if vec[0] in ans:\n",
    "        score+=1\n",
    "    return score\n",
    "know[\"k_cancer_1\"] = know.apply(lambda x:correct_cancer(x), axis=1)\n",
    "print(know[\"k_cancer_1\"])"
   ]
  },
  {
   "cell_type": "code",
   "execution_count": null,
   "metadata": {},
   "outputs": [],
   "source": [
    "vec = [\"FALSE\",\"TRUE\",\"I am not sure.\"]\n",
    "def correct_symptomatic(row):\n",
    "    ans = row[\"k_symptomatic\"]\n",
    "    print(ans)\n",
    "    score = 0\n",
    "    if vec[0] in ans:\n",
    "        score+=1\n",
    "    return score\n",
    "know[\"k_symptomatic_1\"] = know.apply(lambda x:correct_symptomatic(x), axis=1)\n",
    "print(know[\"k_symptomatic_1\"])"
   ]
  },
  {
   "cell_type": "code",
   "execution_count": null,
   "metadata": {},
   "outputs": [],
   "source": [
    "vec = [\"FALSE\",\"TRUE\",\"I am not sure.\"]\n",
    "def correct_vacc(row):\n",
    "    ans = row[\"k_vacc_both\"]\n",
    "    print(ans)\n",
    "    score = 0\n",
    "    if vec[1] in ans:\n",
    "        score+=1\n",
    "    return score\n",
    "know[\"k_vacc_both_1\"] = know.apply(lambda x:correct_vacc(x), axis=1)\n",
    "print(know[\"k_vacc_both_1\"])"
   ]
  },
  {
   "cell_type": "code",
   "execution_count": null,
   "metadata": {},
   "outputs": [],
   "source": [
    "vec = [\"FALSE\",\"TRUE\",\"I am not sure.\"]\n",
    "def correct_vacc_effect(row):\n",
    "    ans = row[\"k_vacc_effect\"]\n",
    "    print(ans)\n",
    "    score = 0\n",
    "    if vec[1] in ans:\n",
    "        score+=1\n",
    "    return score\n",
    "know[\"k_vacc_effect_1\"] = know.apply(lambda x:correct_vacc_effect(x), axis=1)\n",
    "print(know[\"k_vacc_effect_1\"])"
   ]
  },
  {
   "cell_type": "code",
   "execution_count": null,
   "metadata": {},
   "outputs": [],
   "source": [
    "vec = [\"FALSE\",\"TRUE\",\"I am not sure.\"]\n",
    "def correct_vacc_effect(row):\n",
    "    ans = row[\"k_vacc_effect\"]\n",
    "    print(ans)\n",
    "    score = 0\n",
    "    if vec[1] in ans:\n",
    "        score+=1\n",
    "    return score\n",
    "know[\"k_vacc_effect_1\"] = know.apply(lambda x:correct_vacc_effect(x), axis=1)\n",
    "print(know[\"k_vacc_effect_1\"])"
   ]
  },
  {
   "cell_type": "code",
   "execution_count": null,
   "metadata": {},
   "outputs": [],
   "source": [
    "target =[\"Warts around the genital area\",\" Cervical cancer\"]\n",
    "def correct_dxf(row):\n",
    "    ans = row[\"k_dxf\"].split(\",\")\n",
    "    [x.strip() for x in ans]\n",
    "    print(ans)\n",
    "    score = 0\n",
    "    if target[1] in ans:\n",
    "        score+=1\n",
    "    if target[0] in ans:\n",
    "        score+=1\n",
    "    return score\n",
    "know[\"k_dxf_1\"] = know.apply(lambda x:correct_dxf(x), axis=1)\n",
    "print(know[\"k_dxf_1\"])"
   ]
  },
  {
   "cell_type": "code",
   "execution_count": null,
   "metadata": {},
   "outputs": [],
   "source": [
    "import re\n",
    "pattern = re.compile(\".*_1$\")\n",
    "selected_knows= know.filter(regex=pattern)\n",
    "print(selected_knows)\n",
    "know[\"k_finalscore\"] = selected_knows.sum(axis=1)"
   ]
  },
  {
   "cell_type": "code",
   "execution_count": null,
   "metadata": {},
   "outputs": [],
   "source": [
    "know[\"d_time\"] = dem[\"d_time\"]\n",
    "sample = pd.merge(dem,know,how=\"left\",on=\"d_time\")\n",
    "sample.to_csv(\"knowscore.csv\")"
   ]
  },
  {
   "cell_type": "code",
   "execution_count": null,
   "metadata": {},
   "outputs": [],
   "source": [
    "col_sums = {}\n",
    "for x in list(selected_knows.columns):\n",
    "    col_sums.update({x:selected_knows[x].sum()})\n",
    "\n",
    "{k: v for k, v in sorted(col_sums.items(), key=lambda x: x[1])}\n",
    "sorted(col_sums.items(), key=lambda x: x[1])"
   ]
  },
  {
   "cell_type": "code",
   "execution_count": 79,
   "metadata": {},
   "outputs": [
    {
     "data": {
      "text/plain": [
       "Index(['k_dxm_1', 'k_transmission_1', 'k_protection_1', 'k_age_range_1',\n",
       "       'k_heard_1', 'k_self_limited_1', 'k_early_sex_1', 'k_condom_1',\n",
       "       'k_multiple_sex_1', 'k_early_symptom_1', 'k_both_gender_1',\n",
       "       'k_lowrisk_1', 'k_gen_wart_1', 'k_common_1', 'k_cancer_1',\n",
       "       'k_symptomatic_1', 'k_vacc_both_1', 'k_vacc_effect_1', 'k_dxf_1'],\n",
       "      dtype='object')"
      ]
     },
     "execution_count": 79,
     "metadata": {},
     "output_type": "execute_result"
    }
   ],
   "source": [
    "#demographics = df[list([x for x in df.columns if x.startswith(\"d_\")])]\n",
    "#[demographics[x].value_counts() for x in demographics.columns]\n",
    "selected_knows.columns"
   ]
  },
  {
   "cell_type": "code",
   "execution_count": null,
   "metadata": {},
   "outputs": [],
   "source": [
    "gender = pd[\"gender\"].groupby(\"d_gender\")"
   ]
  }
 ],
 "metadata": {
  "kernelspec": {
   "display_name": "Python 3",
   "language": "python",
   "name": "python3"
  },
  "language_info": {
   "codemirror_mode": {
    "name": "ipython",
    "version": 3
   },
   "file_extension": ".py",
   "mimetype": "text/x-python",
   "name": "python",
   "nbconvert_exporter": "python",
   "pygments_lexer": "ipython3",
   "version": "3.10.7"
  },
  "orig_nbformat": 4
 },
 "nbformat": 4,
 "nbformat_minor": 2
}
