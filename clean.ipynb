{
 "cells": [
  {
   "cell_type": "code",
   "execution_count": 94,
   "metadata": {},
   "outputs": [
    {
     "name": "stdout",
     "output_type": "stream",
     "text": [
      "(41, 67)\n",
      "(41, 53)\n",
      "Index(['d_time', 'd_age', 'd_gender', 'd_family_members', 'd_marital',\n",
      "       'd_children', 'd_income', 'd_vaccinated', 'd_not_vaccinated', 'k_dxm',\n",
      "       'k_transmission', 'k_protection', 'k_age_range', 'd_reason',\n",
      "       'b_child_vacc', 'b_discuss_with_child', 'd_religion', 'd_level',\n",
      "       'k_heard', 'k_early_sex', 'k_self_limited', 'k_condom',\n",
      "       'k_multiple_sex', 'k_early_symptom', 'k_both_gender', 'k_lowrisk',\n",
      "       'k_gen_wart', 'k_common', 'k_cancer', 'k_symptomatic', 'awareness',\n",
      "       'k_vacc_both', 'k_vacc_effect', 'k_dxf', 'b_pap', 'b_ovx', 'b_vacc_new',\n",
      "       'b_vac_danger', 'b_child_sex', 'b_exposure'],\n",
      "      dtype='object')\n",
      "(40, 40)\n"
     ]
    }
   ],
   "source": [
    "import pandas as pd\n",
    "import numpy as np\n",
    "df = pd.read_csv(\"./hpv/final.csv\")\n",
    "print(df.shape)\n",
    "for x in df.columns:\n",
    "    if pd.isna(df[x][0]):\n",
    "        df = df.drop(x, axis=1)\n",
    "\n",
    "print(df.shape)\n",
    "df.head()\n",
    "without_names = df.columns[df.columns.str.contains(\"Unnamed\")]\n",
    "df.drop(list(without_names),axis=1,inplace=True)\n",
    "df = df.drop(1,axis=0)\n",
    "# new_names = [df[x][0] for x in df.columns]\n",
    "# df.columns = new_names\n",
    "print(df.columns)\n",
    "print(df.shape)"
   ]
  },
  {
   "cell_type": "code",
   "execution_count": 117,
   "metadata": {},
   "outputs": [],
   "source": [
    "demographic_names = df.columns[df.columns.str.startswith(\"d_\")]\n",
    "knowledge_names = df.columns[df.columns.str.startswith(\"k_\")]\n",
    "belief_names = df.columns[df.columns.str.startswith(\"b_\")]\n",
    "\n",
    "dem = df[demographic_names]\n",
    "know = df[knowledge_names]\n",
    "bel = df[belief_names]"
   ]
  },
  {
   "cell_type": "code",
   "execution_count": null,
   "metadata": {},
   "outputs": [],
   "source": [
    "dem[\"d_gender\"]= dem[\"d_gender\"].replace({\"Male\":1,\"Female\":0})\n"
   ]
  },
  {
   "cell_type": "code",
   "execution_count": null,
   "metadata": {},
   "outputs": [],
   "source": [
    "know_score = know\n",
    "\n",
    "print(know_score.columns)\n",
    "    "
   ]
  },
  {
   "cell_type": "code",
   "execution_count": null,
   "metadata": {},
   "outputs": [],
   "source": [
    "pos = [\"Genital Warts\",\"Cancer of the penis and anus\"]\n",
    "def correct(row):\n",
    "    answers = row[\"k_dxm\"].split(\",\")\n",
    "    answers = [x.strip() for x in answers]\n",
    "    print(answers)\n",
    "    score = 0\n",
    "    if pos[0] in answers:\n",
    "        score +=1\n",
    "    if pos[1] in answers:\n",
    "        score +=1\n",
    "    return score\n",
    "\n",
    "\n",
    "know[\"k_dxm_1\"] = know.apply(lambda row:correct(row), axis=1)\n"
   ]
  },
  {
   "cell_type": "code",
   "execution_count": null,
   "metadata": {},
   "outputs": [],
   "source": [
    "know[\"k_transmission\"].unique()\n",
    "options = [\"Kissing or having oral sex with the infected person.\",\"Sexual intercourse with the infected individual.\"]\n",
    "\n",
    "def correct_transmission(row):\n",
    "    answers = row[\"k_transmission\"].split(\",\")\n",
    "    answers = [x.strip() for x  in answers]\n",
    "    score = 0\n",
    "    if options[0] in answers:\n",
    "        score+=1\n",
    "    if options[1] in answers:\n",
    "        score+=1\n",
    "    return score\n",
    "\n",
    "know[\"k_transmission_1\"] = know.apply(lambda row:correct_transmission(row), axis=1)\n",
    "\n",
    "print(know[\"k_transmission_1\"])\n",
    "\n"
   ]
  },
  {
   "cell_type": "code",
   "execution_count": 125,
   "metadata": {},
   "outputs": [
    {
     "data": {
      "text/plain": [
       "array(['Limit my sexual partners., Receiving the HPV vaccine.',\n",
       "       'Avoid shaking hands as much as possible.',\n",
       "       'Limit my sexual partners.', 'Receiving the HPV vaccine.',\n",
       "       'Use a condom or other protective barriers.'], dtype=object)"
      ]
     },
     "execution_count": 125,
     "metadata": {},
     "output_type": "execute_result"
    }
   ],
   "source": [
    "know[\"k_protection\"].unique()\n",
    "protection = [\"Avoid shaking hands as much as possible.\",\"Use a condom or other protective barriers.\",\"Limit my sexual partners.\",,\"Receiving the HPV vaccine.\"]\n",
    "def correct_protection(row):\n",
    "    ans = row[\"k_protection\"].split(\",\")\n",
    "    ans =[x.strip() for x in ans]\n",
    "    score = 0\n",
    "    if "
   ]
  }
 ],
 "metadata": {
  "kernelspec": {
   "display_name": "Python 3",
   "language": "python",
   "name": "python3"
  },
  "language_info": {
   "codemirror_mode": {
    "name": "ipython",
    "version": 3
   },
   "file_extension": ".py",
   "mimetype": "text/x-python",
   "name": "python",
   "nbconvert_exporter": "python",
   "pygments_lexer": "ipython3",
   "version": "3.10.7"
  },
  "orig_nbformat": 4
 },
 "nbformat": 4,
 "nbformat_minor": 2
}
