{
 "cells": [
  {
   "cell_type": "code",
   "execution_count": null,
   "metadata": {},
   "outputs": [],
   "source": [
    "import pandas as pd\n",
    "import numpy as np\n",
    "df = pd.read_csv(\"./hpv/final.csv\")\n",
    "print(df.shape)\n",
    "for x in df.columns:\n",
    "    if pd.isna(df[x][0]):\n",
    "        df = df.drop(x, axis=1)\n",
    "\n",
    "print(df.shape)\n",
    "df.head()\n",
    "without_names = df.columns[df.columns.str.contains(\"Unnamed\")]\n",
    "df.drop(list(without_names),axis=1,inplace=True)\n",
    "df = df.drop(1,axis=0)\n",
    "# new_names = [df[x][0] for x in df.columns]\n",
    "# df.columns = new_names\n",
    "print(df.columns)\n",
    "print(df.shape)"
   ]
  },
  {
   "cell_type": "code",
   "execution_count": 34,
   "metadata": {},
   "outputs": [],
   "source": [
    "demographic_names = df.columns[df.columns.str.startswith(\"d_\")]\n",
    "knowledge_names = df.columns[df.columns.str.startswith(\"k_\")]\n",
    "belief_names = df.columns[df.columns.str.startswith(\"b_\")]\n",
    "\n",
    "dem = df[demographic_names]\n",
    "know = df[knowledge_names]\n",
    "bel = df[belief_names]"
   ]
  },
  {
   "cell_type": "code",
   "execution_count": 35,
   "metadata": {},
   "outputs": [
    {
     "name": "stderr",
     "output_type": "stream",
     "text": [
      "/tmp/ipykernel_21538/502474152.py:1: SettingWithCopyWarning: \n",
      "A value is trying to be set on a copy of a slice from a DataFrame.\n",
      "Try using .loc[row_indexer,col_indexer] = value instead\n",
      "\n",
      "See the caveats in the documentation: https://pandas.pydata.org/pandas-docs/stable/user_guide/indexing.html#returning-a-view-versus-a-copy\n",
      "  dem[\"d_gender\"]= dem[\"d_gender\"].replace({\"Male\":1,\"Female\":0})\n"
     ]
    }
   ],
   "source": [
    "dem[\"d_gender\"]= dem[\"d_gender\"].replace({\"Male\":1,\"Female\":0})\n"
   ]
  },
  {
   "cell_type": "code",
   "execution_count": 36,
   "metadata": {},
   "outputs": [
    {
     "name": "stdout",
     "output_type": "stream",
     "text": [
      "Index(['k_dxm', 'k_transmission', 'k_protection', 'k_age_range', 'k_heard',\n",
      "       'k_early_sex', 'k_self_limited', 'k_condom', 'k_multiple_sex',\n",
      "       'k_early_symptom', 'k_both_gender', 'k_lowrisk', 'k_gen_wart',\n",
      "       'k_common', 'k_cancer', 'k_symptomatic', 'k_vacc_both', 'k_vacc_effect',\n",
      "       'k_dxf'],\n",
      "      dtype='object')\n"
     ]
    }
   ],
   "source": [
    "know_score = know\n"
   ]
  },
  {
   "cell_type": "code",
   "execution_count": null,
   "metadata": {},
   "outputs": [],
   "source": [
    "pos = [\"Genital Warts\",\"Cancer of the penis and anus\"]\n",
    "def correct(row):\n",
    "    answers = row[\"k_dxm\"].split(\",\")\n",
    "    answers = [x.strip() for x in answers]\n",
    "    print(answers)\n",
    "    score = 0\n",
    "    if pos[0] in answers:\n",
    "        score +=1\n",
    "    if pos[1] in answers:\n",
    "        score +=1\n",
    "    return score\n",
    "\n",
    "\n",
    "know[\"k_dxm_1\"] = know.apply(lambda row:correct(row), axis=1)\n"
   ]
  },
  {
   "cell_type": "code",
   "execution_count": null,
   "metadata": {},
   "outputs": [],
   "source": [
    "know[\"k_transmission\"].unique()\n",
    "options = [\"Kissing or having oral sex with the infected person.\",\"Sexual intercourse with the infected individual.\"]\n",
    "\n",
    "def correct_transmission(row):\n",
    "    answers = row[\"k_transmission\"].split(\",\")\n",
    "    answers = [x.strip() for x  in answers]\n",
    "    score = 0\n",
    "    if options[0] in answers:\n",
    "        score+=1\n",
    "    if options[1] in answers:\n",
    "        score+=1\n",
    "    return score\n",
    "\n",
    "know[\"k_transmission_1\"] = know.apply(lambda row:correct_transmission(row), axis=1)\n",
    "\n",
    "print(know[\"k_transmission_1\"])\n",
    "\n"
   ]
  },
  {
   "cell_type": "code",
   "execution_count": null,
   "metadata": {},
   "outputs": [],
   "source": [
    "know[\"k_protection\"].unique()\n",
    "protection = [\"Avoid shaking hands as much as possible.\",\"Use a condom or other protective barriers.\",\"Limit my sexual partners.\",\"Receiving the HPV vaccine.\"]\n",
    "def correct_protection(row):\n",
    "    ans = row[\"k_protection\"].split(\",\")\n",
    "    ans =[x.strip() for x in ans]\n",
    "    score = 0\n",
    "    if protection[3] in ans:\n",
    "        score+=3\n",
    "    if protection[2] in ans:\n",
    "        score+=2\n",
    "    if protection[1] in ans:\n",
    "        score+=1\n",
    "    return score\n",
    "know[\"k_protection_1\"] = know.apply(lambda x:correct_protection(x), axis=1)\n",
    "know[\"k_protection_1\"]\n",
    "\n"
   ]
  },
  {
   "cell_type": "code",
   "execution_count": 25,
   "metadata": {},
   "outputs": [
    {
     "data": {
      "text/plain": [
       "Index(['k_dxm', 'k_transmission', 'k_protection', 'k_age_range', 'k_heard',\n",
       "       'k_early_sex', 'k_self_limited', 'k_condom', 'k_multiple_sex',\n",
       "       'k_early_symptom', 'k_both_gender', 'k_lowrisk', 'k_gen_wart',\n",
       "       'k_common', 'k_cancer', 'k_symptomatic', 'k_vacc_both', 'k_vacc_effect',\n",
       "       'k_dxf', 'k_dxm_1', 'k_transmission_1', 'k_age_range_1',\n",
       "       'k_protection_1'],\n",
       "      dtype='object')"
      ]
     },
     "execution_count": 25,
     "metadata": {},
     "output_type": "execute_result"
    }
   ],
   "source": [
    "know.columns"
   ]
  },
  {
   "cell_type": "code",
   "execution_count": null,
   "metadata": {},
   "outputs": [],
   "source": [
    "age = list(know[\"k_age_range\"].unique())\n",
    "def correct_age(row):\n",
    "    ans = row[\"k_age_range\"]\n",
    "    print(ans)\n",
    "    score = 0\n",
    "    if age[4] in ans:\n",
    "        score-=1\n",
    "    if age[2] in ans:\n",
    "        score+=1\n",
    "    return score\n",
    "\n",
    "know[\"k_age_range_1\"] = know.apply(lambda x:correct_age(x),axis=1)\n",
    "print(know[\"k_age_range_1\"])"
   ]
  },
  {
   "cell_type": "code",
   "execution_count": null,
   "metadata": {},
   "outputs": [],
   "source": [
    "\n",
    "standard = [\"No\",\"Yes\",\"I am not sure.\"]\n",
    "def correct_heard(row):\n",
    "    ans = row[\"k_heard\"]\n",
    "    print(ans)\n",
    "    score = 0\n",
    "    if standard[1] in ans:\n",
    "        score+=1\n",
    "    return score\n",
    "know[\"k_heard_1\"] = know.apply(lambda x:correct_heard(x), axis=1)\n",
    "print(know[\"k_heard_1\"])"
   ]
  },
  {
   "cell_type": "code",
   "execution_count": null,
   "metadata": {},
   "outputs": [],
   "source": [
    "know[\"k_self_limited\"].unique()\n",
    "vec = [\"FALSE\",\"TRUE\",\"I am not sure.\"]\n",
    "def correct_early_sex(row):\n",
    "    ans = row[\"k_self_limited\"]\n",
    "    print(ans)\n",
    "    score = 0\n",
    "    if vec[1] in ans:\n",
    "        score+=1\n",
    "    return score\n",
    "know[\"k_self_limited_1\"] = know.apply(lambda x:correct_early_sex(x), axis=1)\n",
    "print(know[\"k_self_limited_1\"])\n"
   ]
  },
  {
   "cell_type": "code",
   "execution_count": null,
   "metadata": {},
   "outputs": [],
   "source": [
    "know[\"k_early_sex\"].unique()\n",
    "vec = [\"FALSE\",\"TRUE\",\"I am not sure.\"]\n",
    "def correct_early_sex(row):\n",
    "    ans = row[\"k_early_sex\"]\n",
    "    print(ans)\n",
    "    score = 0\n",
    "    if vec[1] in ans:\n",
    "        score+=1\n",
    "    return score\n",
    "know[\"k_early_sex_1\"] = know.apply(lambda x:correct_early_sex(x), axis=1)\n",
    "print(know[\"k_early_sex_1\"])"
   ]
  },
  {
   "cell_type": "code",
   "execution_count": null,
   "metadata": {},
   "outputs": [],
   "source": [
    "know[\"k_self_limited\"].unique()\n",
    "vec = [\"FALSE\",\"TRUE\",\"I am not sure.\"]\n",
    "def correct_self_linit(row):\n",
    "    ans = row[\"k_self_limited\"]\n",
    "    print(ans)\n",
    "    score = 0\n",
    "    if vec[1] in ans:\n",
    "        score+=1\n",
    "    return score\n",
    "know[\"k_self_limited_1\"] = know.apply(lambda x:correct_self_linit(x), axis=1)\n",
    "print(know[\"k_self_limited_1\"])"
   ]
  },
  {
   "cell_type": "code",
   "execution_count": 56,
   "metadata": {},
   "outputs": [
    {
     "data": {
      "text/plain": [
       "Index(['k_dxm', 'k_transmission', 'k_protection', 'k_age_range', 'k_heard',\n",
       "       'k_early_sex', 'k_self_limited', 'k_condom', 'k_multiple_sex',\n",
       "       'k_early_symptom', 'k_both_gender', 'k_lowrisk', 'k_gen_wart',\n",
       "       'k_common', 'k_cancer', 'k_symptomatic', 'k_vacc_both', 'k_vacc_effect',\n",
       "       'k_dxf', 'k_dxm_1', 'k_transmission_1', 'k_age_range_1', 'k_heard_1',\n",
       "       'k_early_sex_1'],\n",
       "      dtype='object')"
      ]
     },
     "execution_count": 56,
     "metadata": {},
     "output_type": "execute_result"
    }
   ],
   "source": [
    "know.columns"
   ]
  },
  {
   "cell_type": "code",
   "execution_count": 57,
   "metadata": {},
   "outputs": [
    {
     "data": {
      "text/plain": [
       "array(['TRUE', 'I am not sure.', 'FALSE'], dtype=object)"
      ]
     },
     "execution_count": 57,
     "metadata": {},
     "output_type": "execute_result"
    }
   ],
   "source": [
    "know[\"k_condom\"].unique()"
   ]
  },
  {
   "cell_type": "code",
   "execution_count": null,
   "metadata": {},
   "outputs": [],
   "source": [
    "know[\"k_condom\"].unique()\n",
    "vec = [\"FALSE\",\"TRUE\",\"I am not sure.\"]\n",
    "def correct_condom(row):\n",
    "    ans = row[\"k_condom\"]\n",
    "    print(ans)\n",
    "    score = 0\n",
    "    if vec[1] in ans:\n",
    "        score+=1\n",
    "    return score\n",
    "know[\"k_condom_1\"] = know.apply(lambda x:correct_condom(x), axis=1)\n",
    "print(know[\"k_condom_1\"])"
   ]
  },
  {
   "cell_type": "code",
   "execution_count": null,
   "metadata": {},
   "outputs": [],
   "source": [
    "vec = [\"FALSE\",\"TRUE\",\"I am not sure.\"]\n",
    "def correct_multiple_sex(row):\n",
    "    ans = row[\"k_multiple_sex\"]\n",
    "    print(ans)\n",
    "    score = 0\n",
    "    if vec[0] in ans:\n",
    "        score+=1\n",
    "    return score\n",
    "know[\"k_multiple_sex_1\"] = know.apply(lambda x:correct_multiple_sex(x), axis=1)\n",
    "print(know[\"k_multiple_sex_1\"])"
   ]
  },
  {
   "cell_type": "code",
   "execution_count": null,
   "metadata": {},
   "outputs": [],
   "source": [
    "know[\"k_early_symptom\"]\n",
    "vec = [\"FALSE\",\"TRUE\",\"I am not sure.\"]\n",
    "def correct_multiple_sex(row):\n",
    "    ans = row[\"k_early_symptom\"]\n",
    "    print(ans)\n",
    "    score = 0\n",
    "    if vec[0] in ans:\n",
    "        score+=1\n",
    "    return score\n",
    "know[\"k_early_symptom_1\"] = know.apply(lambda x:correct_multiple_sex(x), axis=1)\n",
    "print(know[\"k_early_symptom_1\"])"
   ]
  },
  {
   "cell_type": "code",
   "execution_count": null,
   "metadata": {},
   "outputs": [],
   "source": [
    "vec = [\"FALSE\",\"TRUE\",\"I am not sure.\"]\n",
    "def correct_both_gender(row):\n",
    "    ans = row[\"k_both_gender\"]\n",
    "    print(ans)\n",
    "    score = 0\n",
    "    if vec[1] in ans:\n",
    "        score+=1\n",
    "    return score\n",
    "know[\"k_both_gender_1\"] = know.apply(lambda x:correct_both_gender(x), axis=1)\n",
    "print(know[\"k_both_gender_1\"])"
   ]
  },
  {
   "cell_type": "code",
   "execution_count": null,
   "metadata": {},
   "outputs": [],
   "source": [
    "vec = [\"FALSE\",\"TRUE\",\"I am not sure.\"]\n",
    "def correct_lowrisk(row):\n",
    "    ans = row[\"k_lowrisk\"]\n",
    "    print(ans)\n",
    "    score = 0\n",
    "    if vec[1] in ans:\n",
    "        score+=1\n",
    "    return score\n",
    "know[\"k_lowrisk_1\"] = know.apply(lambda x:correct_lowrisk(x), axis=1)\n",
    "print(know[\"k_lowrisk_1\"])"
   ]
  },
  {
   "cell_type": "code",
   "execution_count": null,
   "metadata": {},
   "outputs": [],
   "source": [
    "vec = [\"FALSE\",\"TRUE\",\"I am not sure.\"]\n",
    "def correct_genwart(row):\n",
    "    ans = row[\"k_gen_wart\"]\n",
    "    print(ans)\n",
    "    score = 0\n",
    "    if vec[1] in ans:\n",
    "        score+=1\n",
    "    return score\n",
    "know[\"k_gen_wart_1\"] = know.apply(lambda x:correct_genwart(x), axis=1)\n",
    "print(know[\"k_gen_wart_1\"])"
   ]
  },
  {
   "cell_type": "code",
   "execution_count": null,
   "metadata": {},
   "outputs": [],
   "source": [
    "vec = [\"FALSE\",\"TRUE\",\"I am not sure.\"]\n",
    "def correct_common(row):\n",
    "    ans = row[\"k_common\"]\n",
    "    print(ans)\n",
    "    score = 0\n",
    "    if vec[1] in ans:\n",
    "        score+=1\n",
    "    return score\n",
    "know[\"k_common_1\"] = know.apply(lambda x:correct_common(x), axis=1)\n",
    "print(know[\"k_common_1\"])"
   ]
  },
  {
   "cell_type": "code",
   "execution_count": null,
   "metadata": {},
   "outputs": [],
   "source": [
    "vec = [\"FALSE\",\"TRUE\",\"I am not sure.\"]\n",
    "def correct_cancer(row):\n",
    "    ans = row[\"k_cancer\"]\n",
    "    print(ans)\n",
    "    score = 0\n",
    "    if vec[0] in ans:\n",
    "        score+=1\n",
    "    return score\n",
    "know[\"k_cancer_1\"] = know.apply(lambda x:correct_cancer(x), axis=1)\n",
    "print(know[\"k_cancer_1\"])"
   ]
  },
  {
   "cell_type": "code",
   "execution_count": null,
   "metadata": {},
   "outputs": [],
   "source": [
    "vec = [\"FALSE\",\"TRUE\",\"I am not sure.\"]\n",
    "def correct_symptomatic(row):\n",
    "    ans = row[\"k_symptomatic\"]\n",
    "    print(ans)\n",
    "    score = 0\n",
    "    if vec[0] in ans:\n",
    "        score+=1\n",
    "    return score\n",
    "know[\"k_symptomatic_1\"] = know.apply(lambda x:correct_symptomatic(x), axis=1)\n",
    "print(know[\"k_symptomatic_1\"])"
   ]
  },
  {
   "cell_type": "code",
   "execution_count": null,
   "metadata": {},
   "outputs": [],
   "source": [
    "vec = [\"FALSE\",\"TRUE\",\"I am not sure.\"]\n",
    "def correct_vacc(row):\n",
    "    ans = row[\"k_vacc_both\"]\n",
    "    print(ans)\n",
    "    score = 0\n",
    "    if vec[1] in ans:\n",
    "        score+=1\n",
    "    return score\n",
    "know[\"k_vacc_both_1\"] = know.apply(lambda x:correct_vacc(x), axis=1)\n",
    "print(know[\"k_vacc_both_1\"])"
   ]
  },
  {
   "cell_type": "code",
   "execution_count": null,
   "metadata": {},
   "outputs": [],
   "source": [
    "vec = [\"FALSE\",\"TRUE\",\"I am not sure.\"]\n",
    "def correct_vacc_effect(row):\n",
    "    ans = row[\"k_vacc_effect\"]\n",
    "    print(ans)\n",
    "    score = 0\n",
    "    if vec[1] in ans:\n",
    "        score+=1\n",
    "    return score\n",
    "know[\"k_vacc_effect_1\"] = know.apply(lambda x:correct_vacc_effect(x), axis=1)\n",
    "print(know[\"k_vacc_effect_1\"])"
   ]
  },
  {
   "cell_type": "code",
   "execution_count": null,
   "metadata": {},
   "outputs": [],
   "source": [
    "vec = [\"FALSE\",\"TRUE\",\"I am not sure.\"]\n",
    "def correct_vacc_effect(row):\n",
    "    ans = row[\"k_vacc_effect\"]\n",
    "    print(ans)\n",
    "    score = 0\n",
    "    if vec[1] in ans:\n",
    "        score+=1\n",
    "    return score\n",
    "know[\"k_vacc_effect_1\"] = know.apply(lambda x:correct_vacc_effect(x), axis=1)\n",
    "print(know[\"k_vacc_effect_1\"])"
   ]
  },
  {
   "cell_type": "code",
   "execution_count": 75,
   "metadata": {},
   "outputs": [
    {
     "data": {
      "text/plain": [
       "Index(['k_dxm', 'k_transmission', 'k_protection', 'k_age_range', 'k_heard',\n",
       "       'k_early_sex', 'k_self_limited', 'k_condom', 'k_multiple_sex',\n",
       "       'k_early_symptom', 'k_both_gender', 'k_lowrisk', 'k_gen_wart',\n",
       "       'k_common', 'k_cancer', 'k_symptomatic', 'k_vacc_both', 'k_vacc_effect',\n",
       "       'k_dxf', 'k_dxm_1', 'k_transmission_1', 'k_age_range_1', 'k_heard_1',\n",
       "       'k_early_sex_1', 'k_condom_1', 'k_multiple_sex_1', 'k_early_symptom_1',\n",
       "       'k_both_gender_1', 'k_lowrisk_1', 'k_gen_wart_1', 'k_common_1',\n",
       "       'k_cancer_1', 'k_symptomatic_1', 'k_vacc_both_1', 'k_vacc_effect_1'],\n",
       "      dtype='object')"
      ]
     },
     "execution_count": 75,
     "metadata": {},
     "output_type": "execute_result"
    }
   ],
   "source": [
    "know.columns"
   ]
  },
  {
   "cell_type": "code",
   "execution_count": 81,
   "metadata": {},
   "outputs": [
    {
     "name": "stdout",
     "output_type": "stream",
     "text": [
      "['Warts around the genital area', ' Cervical cancer']\n",
      "['Urinary infections', ' Warts around the genital area']\n",
      "['Warts around the genital area', ' Herpes']\n",
      "['Genital rash', ' Warts around the genital area']\n",
      "['Genital rash', ' Warts around the genital area']\n",
      "['Urinary infections', ' Genital rash']\n",
      "['Warts around the genital area', ' Cervical cancer']\n",
      "['Warts around the genital area', ' Cervical cancer']\n",
      "['Warts around the genital area', ' Cervical cancer']\n",
      "['Urinary infections', ' Genital rash']\n",
      "['Cancer of the large bowel', ' Herpes']\n",
      "['Genital rash', ' Warts around the genital area']\n",
      "['Urinary infections', ' Herpes']\n",
      "['Cervical cancer', ' Herpes']\n",
      "['Urinary infections', ' Cervical cancer']\n",
      "['Genital rash', ' Cervical cancer']\n",
      "['Warts around the genital area', ' Herpes']\n",
      "['Genital rash', ' Cervical cancer']\n",
      "['Urinary infections', ' Warts around the genital area']\n",
      "['Warts around the genital area', ' Cervical cancer']\n",
      "['Urinary infections', ' Cervical cancer']\n",
      "['Warts around the genital area', ' Cervical cancer']\n",
      "['Cancer of the large bowel', ' Cervical cancer']\n",
      "['Cervical cancer', ' Herpes']\n",
      "['Genital rash', ' Cervical cancer']\n",
      "['Genital rash', ' Cervical cancer']\n",
      "['Warts around the genital area', ' Cancer of the large bowel']\n",
      "['Warts around the genital area', ' Cancer of the large bowel']\n",
      "['Warts around the genital area', ' Herpes']\n",
      "['Cancer of the large bowel', ' Cervical cancer']\n",
      "['Warts around the genital area', ' Cervical cancer']\n",
      "['Urinary infections', ' Genital rash']\n",
      "['Warts around the genital area', ' Cervical cancer']\n",
      "['Genital rash', ' Cancer of the large bowel']\n",
      "['Genital rash', ' Warts around the genital area']\n",
      "['Urinary infections', ' Cervical cancer']\n",
      "['Warts around the genital area', ' Cervical cancer']\n",
      "['Warts around the genital area', ' Cervical cancer']\n",
      "['Warts around the genital area', ' Cervical cancer']\n",
      "['Genital rash', ' Cervical cancer']\n",
      "0     1\n",
      "2     0\n",
      "3     1\n",
      "4     0\n",
      "5     0\n",
      "6     0\n",
      "7     1\n",
      "8     1\n",
      "9     1\n",
      "10    0\n",
      "11    0\n",
      "12    0\n",
      "13    0\n",
      "14    1\n",
      "15    0\n",
      "16    0\n",
      "17    1\n",
      "18    0\n",
      "19    0\n",
      "20    1\n",
      "21    0\n",
      "22    1\n",
      "23    0\n",
      "24    1\n",
      "25    0\n",
      "26    0\n",
      "27    1\n",
      "28    1\n",
      "29    1\n",
      "30    0\n",
      "31    1\n",
      "32    0\n",
      "33    1\n",
      "34    0\n",
      "35    0\n",
      "36    0\n",
      "37    1\n",
      "38    1\n",
      "39    1\n",
      "40    0\n",
      "Name: k_dxf_1, dtype: int64\n"
     ]
    },
    {
     "name": "stderr",
     "output_type": "stream",
     "text": [
      "/tmp/ipykernel_21538/3440460145.py:12: SettingWithCopyWarning: \n",
      "A value is trying to be set on a copy of a slice from a DataFrame.\n",
      "Try using .loc[row_indexer,col_indexer] = value instead\n",
      "\n",
      "See the caveats in the documentation: https://pandas.pydata.org/pandas-docs/stable/user_guide/indexing.html#returning-a-view-versus-a-copy\n",
      "  know[\"k_dxf_1\"] = know.apply(lambda x:correct_dxf(x), axis=1)\n"
     ]
    }
   ],
   "source": [
    "target =[\"Warts around the genital area\",\" Cervical cancer\"]\n",
    "def correct_dxf(row):\n",
    "    ans = row[\"k_dxf\"].split(\",\")\n",
    "    [x.strip() for x in ans]\n",
    "    print(ans)\n",
    "    score = 0\n",
    "    if target[1] in ans:\n",
    "        score+=1\n",
    "    if target[0] in ans:\n",
    "        score+=1\n",
    "    return score\n",
    "know[\"k_dxf_1\"] = know.apply(lambda x:correct_dxf(x), axis=1)\n",
    "print(know[\"k_dxf_1\"])"
   ]
  },
  {
   "cell_type": "code",
   "execution_count": 76,
   "metadata": {},
   "outputs": [
    {
     "data": {
      "text/plain": [
       "array(['Warts around the genital area, Cervical cancer',\n",
       "       'Urinary infections, Warts around the genital area',\n",
       "       'Warts around the genital area, Herpes',\n",
       "       'Genital rash, Warts around the genital area',\n",
       "       'Urinary infections, Genital rash',\n",
       "       'Cancer of the large bowel, Herpes', 'Urinary infections, Herpes',\n",
       "       'Cervical cancer, Herpes', 'Urinary infections, Cervical cancer',\n",
       "       'Genital rash, Cervical cancer',\n",
       "       'Cancer of the large bowel, Cervical cancer',\n",
       "       'Warts around the genital area, Cancer of the large bowel',\n",
       "       'Genital rash, Cancer of the large bowel'], dtype=object)"
      ]
     },
     "execution_count": 76,
     "metadata": {},
     "output_type": "execute_result"
    }
   ],
   "source": [
    "know[\"k_dxf\"].unique()"
   ]
  },
  {
   "cell_type": "code",
   "execution_count": null,
   "metadata": {},
   "outputs": [],
   "source": []
  }
 ],
 "metadata": {
  "kernelspec": {
   "display_name": "Python 3",
   "language": "python",
   "name": "python3"
  },
  "language_info": {
   "codemirror_mode": {
    "name": "ipython",
    "version": 3
   },
   "file_extension": ".py",
   "mimetype": "text/x-python",
   "name": "python",
   "nbconvert_exporter": "python",
   "pygments_lexer": "ipython3",
   "version": "3.10.7"
  },
  "orig_nbformat": 4
 },
 "nbformat": 4,
 "nbformat_minor": 2
}
