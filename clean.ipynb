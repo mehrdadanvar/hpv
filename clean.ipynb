{
 "cells": [
  {
   "cell_type": "code",
   "execution_count": 4,
   "metadata": {},
   "outputs": [
    {
     "name": "stdout",
     "output_type": "stream",
     "text": [
      "Index(['Unnamed: 0', 'd_time', 'd_age', 'd_gender', 'd_family_members',\n",
      "       'd_marital', 'd_children', 'd_income', 'd_vaccinated',\n",
      "       'd_not_vaccinated', 'd_reason', 'd_religion', 'd_level', 'k_dxm',\n",
      "       'k_transmission', 'k_protection', 'k_age_range', 'k_heard',\n",
      "       'k_early_sex', 'k_self_limited', 'k_condom', 'k_multiple_sex',\n",
      "       'k_early_symptom', 'k_both_gender', 'k_lowrisk', 'k_gen_wart',\n",
      "       'k_common', 'k_cancer', 'k_symptomatic', 'k_vacc_both', 'k_vacc_effect',\n",
      "       'k_dxf', 'k_dxm_1', 'k_transmission_1', 'k_protection_1',\n",
      "       'k_age_range_1', 'k_heard_1', 'k_self_limited_1', 'k_early_sex_1',\n",
      "       'k_condom_1', 'k_multiple_sex_1', 'k_early_symptom_1',\n",
      "       'k_both_gender_1', 'k_lowrisk_1', 'k_gen_wart_1', 'k_common_1',\n",
      "       'k_cancer_1', 'k_symptomatic_1', 'k_vacc_both_1', 'k_vacc_effect_1',\n",
      "       'k_dxf_1', 'k_finalscore'],\n",
      "      dtype='object') Index(['b_child_vacc', 'b_discuss_with_child', 'b_pap', 'b_ovx', 'b_vacc_new',\n",
      "       'b_vac_danger', 'b_child_sex', 'b_exposure', 'b_men_need',\n",
      "       'b_sex_vacc_effect', 'b_antibody', 'b_vacc_risky_sex', 'b_serious',\n",
      "       'b_vacc_cancer_prevent', 'b_discuss_school', 'b_will_vacc_child',\n",
      "       'd_time', 'b_pap_1', 'b_child_vacc_1', 'b_discuss_with_child_1',\n",
      "       'b_ovx_1', 'b_vacc_new_1', 'b_vac_danger_1', 'b_child_sex_1',\n",
      "       'b_men_need_1', 'b_sex_vacc_effect_1', 'b_antibody_1',\n",
      "       'b_vacc_risky_sex_1', 'b_serious_1', 'b_vacc_cancer_prevent_1',\n",
      "       'b_discuss_school_1', 'b_will_vacc_child_1', 'b_finalscore'],\n",
      "      dtype='object')\n"
     ]
    }
   ],
   "source": [
    "import pandas as pd\n",
    "import numpy as np\n",
    "know = pd.read_csv(\"./knowscore.csv\")\n",
    "bel = pd.read_csv(\"./belscores.csv\")\n",
    "print(know.columns,bel.columns)"
   ]
  },
  {
   "cell_type": "code",
   "execution_count": 14,
   "metadata": {},
   "outputs": [
    {
     "data": {
      "text/plain": [
       "<Axes: >"
      ]
     },
     "execution_count": 14,
     "metadata": {},
     "output_type": "execute_result"
    },
    {
     "data": {
      "image/png": "[encoded data removed]",
      "text/plain": [
       "<Figure size 640x480 with 1 Axes>"
      ]
     },
     "metadata": {},
     "output_type": "display_data"
    }
   ],
   "source": [
    "target[\"b_finalscore\"].hist(grid=False)"
   ]
  },
  {
   "cell_type": "code",
   "execution_count": null,
   "metadata": {},
   "outputs": [],
   "source": []
  },
  {
   "cell_type": "code",
   "execution_count": null,
   "metadata": {},
   "outputs": [],
   "source": [
    "df = pd.merge(know,bel,how=\"left\",on=\"d_time\")\n",
    "target = df[[\"d_time\",\"k_finalscore\",\"b_finalscore\"]]\n"
   ]
  },
  {
   "cell_type": "code",
   "execution_count": 11,
   "metadata": {},
   "outputs": [
    {
     "data": {
      "text/plain": [
       "<Axes: xlabel='k_finalscore', ylabel='b_finalscore'>"
      ]
     },
     "execution_count": 11,
     "metadata": {},
     "output_type": "execute_result"
    },
    {
     "data": {
      "image/png": "[encoded data removed]",
      "text/plain": [
       "<Figure size 640x480 with 1 Axes>"
      ]
     },
     "metadata": {},
     "output_type": "display_data"
    }
   ],
   "source": [
    "target.plot.scatter(x=\"k_finalscore\",y=\"b_finalscore\",c=\"cyan\")"
   ]
  },
  {
   "cell_type": "code",
   "execution_count": null,
   "metadata": {},
   "outputs": [],
   "source": [
    "sample = target[\"k_finalscore\"].rank(method=\"min\")\n",
    "target[\"k_rank\"] = sample\n",
    "# target.sort_values(\"k_finalscore\")\n",
    "target.groupby(\"k_finalscore\").count()"
   ]
  },
  {
   "cell_type": "code",
   "execution_count": 83,
   "metadata": {},
   "outputs": [
    {
     "name": "stdout",
     "output_type": "stream",
     "text": [
      "{4: 2, 6: 2, 7: 3, 8: 1, 9: 1, 10: 4, 11: 3, 12: 6, 13: 3, 14: 6, 15: 1, 16: 3, 17: 4, 19: 2, 20: 1, 21: 1}\n",
      "[4, 6, 7, 8, 9, 10, 11, 12, 13, 14, 15, 16, 17, 19, 20, 21]\n",
      "[2, 2, 3, 1, 1, 4, 3, 6, 3, 6, 1, 3, 4, 2, 1, 1]\n",
      "[2, 4, 7, 8, 9, 13, 16, 22, 25, 31, 32, 35, 39, 41, 42, 43] 16 16\n",
      "{4: 2, 6: 2, 7: 3, 8: 1, 9: 1, 10: 4, 11: 3, 12: 6, 13: 3, 14: 6, 15: 1, 16: 3, 17: 4, 19: 2, 20: 1, 21: 1}\n"
     ]
    },
    {
     "data": {
      "text/plain": [
       "{4: 2,\n",
       " 6: 2,\n",
       " 7: 3,\n",
       " 8: 1,\n",
       " 9: 1,\n",
       " 10: 4,\n",
       " 11: 3,\n",
       " 12: 6,\n",
       " 13: 3,\n",
       " 14: 6,\n",
       " 15: 1,\n",
       " 16: 3,\n",
       " 17: 4,\n",
       " 19: 2,\n",
       " 20: 1,\n",
       " 21: 1}"
      ]
     },
     "execution_count": 83,
     "metadata": {},
     "output_type": "execute_result"
    }
   ],
   "source": [
    "def cum_operations(row,method):\n",
    "    inter = list(row)\n",
    "    inter =sorted(inter)\n",
    "    uniques = list(set(inter))\n",
    "    length = len(inter)\n",
    "    cums = {}\n",
    "    for x in uniques:\n",
    "        cums.update({x:inter.count(x)})\n",
    "    #print(cums)\n",
    "    keys = list(cums.keys())\n",
    "    values = list(cums.values())\n",
    "    #print(keys,values,sep=\"\\n\")\n",
    "    result = []\n",
    "    for i in range(len(uniques)+1):\n",
    "        if i==0:\n",
    "            pass\n",
    "        else:\n",
    "            subset = values[:i]\n",
    "            result.append(sum(subset))\n",
    "    #print(result,len(result),len(keys))\n",
    "    final = {k:v for k,v in zip(keys,values)}\n",
    "    #print(final)\n",
    "    if method==\"freq\":\n",
    "        return(final)\n",
    "    else:\n",
    "        return {k:v for k,v in zip(keys,[x/length for x in result])}\n",
    "\n",
    "\n",
    "\n",
    "\n",
    "\n",
    "\n",
    "cum_operations(target[\"k_finalscore\"],method=\"freq\")\n",
    "    "
   ]
  }
 ],
 "metadata": {
  "kernelspec": {
   "display_name": "Python 3",
   "language": "python",
   "name": "python3"
  },
  "language_info": {
   "codemirror_mode": {
    "name": "ipython",
    "version": 3
   },
   "file_extension": ".py",
   "mimetype": "text/x-python",
   "name": "python",
   "nbconvert_exporter": "python",
   "pygments_lexer": "ipython3",
   "version": "3.10.7"
  },
  "orig_nbformat": 4
 },
 "nbformat": 4,
 "nbformat_minor": 2
}
