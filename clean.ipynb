{
 "cells": [
  {
   "cell_type": "code",
   "execution_count": null,
   "metadata": {},
   "outputs": [],
   "source": [
    "import pandas as pd\n",
    "import numpy as np\n",
    "know = pd.read_csv(\"./knowscore.csv\")\n",
    "bel = pd.read_csv(\"./belscores.csv\")\n",
    "main = pd.read_csv(\"./hpv/final2.csv\")\n",
    "print(know.columns,bel.columns)"
   ]
  },
  {
   "cell_type": "code",
   "execution_count": null,
   "metadata": {},
   "outputs": [],
   "source": [
    "df = pd.merge(know,bel,how=\"left\",on=\"d_time\")\n",
    "df.columns\n",
    "print(df.shape)\n",
    "df = df.drop(index=range(4))\n",
    "print(df.shape)"
   ]
  },
  {
   "cell_type": "code",
   "execution_count": null,
   "metadata": {},
   "outputs": [],
   "source": [
    "from scipy.stats import chi2_contingency"
   ]
  },
  {
   "cell_type": "code",
   "execution_count": null,
   "metadata": {},
   "outputs": [],
   "source": [
    "def categorize_knowledge(row):\n",
    "    ans = row[\"b_finalscore\"]\n",
    "    category = \"0\"\n",
    "    if ans > 8:\n",
    "        category = \"H\"\n",
    "    else:\n",
    "        category=\"L\"\n",
    "    return category\n",
    "\n",
    "df[\"Belief_Score\"] = df.apply(lambda x:categorize_knowledge(x), axis=1)\n",
    "print(df[[\"b_finalscore\",\"test\"]])\n",
    "\n",
    "\n",
    "#df.plot.scatter(x=\"k_finalscore\",y=\"b_finalscore\",c=\"cyan\")"
   ]
  },
  {
   "cell_type": "code",
   "execution_count": null,
   "metadata": {},
   "outputs": [],
   "source": [
    "contingency_table = pd.crosstab(df['d_gender'], df['test'])"
   ]
  },
  {
   "cell_type": "code",
   "execution_count": null,
   "metadata": {},
   "outputs": [],
   "source": [
    "contingency_table"
   ]
  },
  {
   "cell_type": "code",
   "execution_count": null,
   "metadata": {},
   "outputs": [],
   "source": [
    "chi2, p_value, dof, expected = chi2_contingency(contingency_table)"
   ]
  },
  {
   "cell_type": "code",
   "execution_count": null,
   "metadata": {},
   "outputs": [],
   "source": [
    "print(chi2,p_value,dof,expected)"
   ]
  },
  {
   "cell_type": "code",
   "execution_count": null,
   "metadata": {},
   "outputs": [],
   "source": [
    "from scipy.stats import ttest_ind\n",
    "male_scores = df[df['d_gender'] == 'Male']['b_finalscore']\n",
    "female_scores = df[df['d_gender'] == 'Female']['b_finalscore']\n",
    "print(male_scores,female_scores)\n",
    "t_statistic, p_value = ttest_ind(male_scores, female_scores)\n",
    "print('Independent T-Test Results:')\n",
    "print(f'T-Statistic: {t_statistic:.2f}')\n",
    "print(f'P-Value: {p_value:.2f}')"
   ]
  },
  {
   "cell_type": "code",
   "execution_count": null,
   "metadata": {},
   "outputs": [],
   "source": [
    "mehrdad = df.drop(index=range(5))\n",
    "mehrdad.shape\n",
    "df.shape"
   ]
  },
  {
   "cell_type": "code",
   "execution_count": null,
   "metadata": {},
   "outputs": [],
   "source": [
    "sample = df[\"k_finalscore\"].rank(method=\"min\")\n",
    "df[\"k_rank\"] = sample\n",
    "# df.sort_values(\"k_finalscore\")\n",
    "df.groupby(\"k_finalscore\").count()\n",
    "link =\"https://mehrdadanvar-hpv-streamlit-app-vcwbwl.streamlit.app/\""
   ]
  },
  {
   "cell_type": "code",
   "execution_count": null,
   "metadata": {},
   "outputs": [],
   "source": [
    "def cum_operations(row,method):\n",
    "    inter = list(row)\n",
    "    print(inter)\n",
    "    inter = sorted(inter)\n",
    "    print(inter)\n",
    "    uniques = list(set(inter))\n",
    "    print(uniques)\n",
    "    length = len(inter)\n",
    "    cums = {}\n",
    "    for x in uniques:\n",
    "        cums.update({x:inter.count(x)})\n",
    "    print(cums)\n",
    "    keys = list(cums.keys())\n",
    "    values = list(cums.values())\n",
    "    #print(keys,values,sep=\"\\n\")\n",
    "    result = []\n",
    "    for i in range(len(uniques)+1):\n",
    "        if i==0:\n",
    "            pass\n",
    "        else:\n",
    "            subset = values[:i]\n",
    "            result.append(sum(subset))\n",
    "    print(result,len(result),len(keys))\n",
    "    final = {k:v for k,v in zip(keys,values)}\n",
    "    print(final)\n",
    "    if method==\"freq\":\n",
    "        return(final)\n",
    "    else:\n",
    "        return {k:v for k,v in zip(keys,[round((x/length)*100,1) for x in result])}\n",
    "\n",
    "\n"
   ]
  },
  {
   "cell_type": "code",
   "execution_count": null,
   "metadata": {},
   "outputs": [],
   "source": [
    "result = cum_operations(df[\"k_finalscore\"],method=\"any\")\n",
    "sample = pd.DataFrame({\"A\":list(result.keys()),\"B\":list(result.values())})\n",
    "print(sample)\n",
    "k =11\n",
    "b=7\n",
    "\n",
    "sample.plot.line(x=\"A\",y=\"B\",color=\"cyan\",linewidth=\"2\",style=\"o\")"
   ]
  },
  {
   "cell_type": "code",
   "execution_count": null,
   "metadata": {},
   "outputs": [],
   "source": [
    "df[\"b_finalscore\"]"
   ]
  },
  {
   "cell_type": "code",
   "execution_count": 67,
   "metadata": {},
   "outputs": [
    {
     "data": {
      "text/plain": [
       "Female    26\n",
       "Male      15\n",
       "Name: d_gender, dtype: int64"
      ]
     },
     "execution_count": 67,
     "metadata": {},
     "output_type": "execute_result"
    }
   ],
   "source": [
    "df[\"d_marital\"].value_counts()"
   ]
  }
 ],
 "metadata": {
  "kernelspec": {
   "display_name": "Python 3",
   "language": "python",
   "name": "python3"
  },
  "language_info": {
   "codemirror_mode": {
    "name": "ipython",
    "version": 3
   },
   "file_extension": ".py",
   "mimetype": "text/x-python",
   "name": "python",
   "nbconvert_exporter": "python",
   "pygments_lexer": "ipython3",
   "version": "3.10.7"
  },
  "orig_nbformat": 4
 },
 "nbformat": 4,
 "nbformat_minor": 2
}
