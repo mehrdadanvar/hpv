{
 "cells": [
  {
   "cell_type": "code",
   "execution_count": null,
   "metadata": {},
   "outputs": [],
   "source": [
    "import pandas as pd\n",
    "import numpy as np\n",
    "df = pd.read_csv(\"./hpv/final.csv\")\n",
    "print(df.shape)\n",
    "for x in df.columns:\n",
    "    if pd.isna(df[x][0]):\n",
    "        df = df.drop(x, axis=1)\n",
    "\n",
    "print(df.shape)\n",
    "df.head()\n",
    "without_names = df.columns[df.columns.str.contains(\"Unnamed\")]\n",
    "df.drop(list(without_names),axis=1,inplace=True)\n",
    "df = df.drop(1,axis=0)\n",
    "# new_names = [df[x][0] for x in df.columns]\n",
    "# df.columns = new_names\n",
    "print(df.columns)\n",
    "print(df.shape)"
   ]
  },
  {
   "cell_type": "code",
   "execution_count": 34,
   "metadata": {},
   "outputs": [],
   "source": [
    "demographic_names = df.columns[df.columns.str.startswith(\"d_\")]\n",
    "knowledge_names = df.columns[df.columns.str.startswith(\"k_\")]\n",
    "belief_names = df.columns[df.columns.str.startswith(\"b_\")]\n",
    "\n",
    "dem = df[demographic_names]\n",
    "know = df[knowledge_names]\n",
    "bel = df[belief_names]"
   ]
  },
  {
   "cell_type": "code",
   "execution_count": 35,
   "metadata": {},
   "outputs": [
    {
     "name": "stderr",
     "output_type": "stream",
     "text": [
      "/tmp/ipykernel_21538/502474152.py:1: SettingWithCopyWarning: \n",
      "A value is trying to be set on a copy of a slice from a DataFrame.\n",
      "Try using .loc[row_indexer,col_indexer] = value instead\n",
      "\n",
      "See the caveats in the documentation: https://pandas.pydata.org/pandas-docs/stable/user_guide/indexing.html#returning-a-view-versus-a-copy\n",
      "  dem[\"d_gender\"]= dem[\"d_gender\"].replace({\"Male\":1,\"Female\":0})\n"
     ]
    }
   ],
   "source": [
    "dem[\"d_gender\"]= dem[\"d_gender\"].replace({\"Male\":1,\"Female\":0})\n"
   ]
  },
  {
   "cell_type": "code",
   "execution_count": 36,
   "metadata": {},
   "outputs": [
    {
     "name": "stdout",
     "output_type": "stream",
     "text": [
      "Index(['k_dxm', 'k_transmission', 'k_protection', 'k_age_range', 'k_heard',\n",
      "       'k_early_sex', 'k_self_limited', 'k_condom', 'k_multiple_sex',\n",
      "       'k_early_symptom', 'k_both_gender', 'k_lowrisk', 'k_gen_wart',\n",
      "       'k_common', 'k_cancer', 'k_symptomatic', 'k_vacc_both', 'k_vacc_effect',\n",
      "       'k_dxf'],\n",
      "      dtype='object')\n"
     ]
    }
   ],
   "source": [
    "know_score = know\n"
   ]
  },
  {
   "cell_type": "code",
   "execution_count": null,
   "metadata": {},
   "outputs": [],
   "source": [
    "pos = [\"Genital Warts\",\"Cancer of the penis and anus\"]\n",
    "def correct(row):\n",
    "    answers = row[\"k_dxm\"].split(\",\")\n",
    "    answers = [x.strip() for x in answers]\n",
    "    print(answers)\n",
    "    score = 0\n",
    "    if pos[0] in answers:\n",
    "        score +=1\n",
    "    if pos[1] in answers:\n",
    "        score +=1\n",
    "    return score\n",
    "\n",
    "\n",
    "know[\"k_dxm_1\"] = know.apply(lambda row:correct(row), axis=1)\n"
   ]
  },
  {
   "cell_type": "code",
   "execution_count": null,
   "metadata": {},
   "outputs": [],
   "source": [
    "know[\"k_transmission\"].unique()\n",
    "options = [\"Kissing or having oral sex with the infected person.\",\"Sexual intercourse with the infected individual.\"]\n",
    "\n",
    "def correct_transmission(row):\n",
    "    answers = row[\"k_transmission\"].split(\",\")\n",
    "    answers = [x.strip() for x  in answers]\n",
    "    score = 0\n",
    "    if options[0] in answers:\n",
    "        score+=1\n",
    "    if options[1] in answers:\n",
    "        score+=1\n",
    "    return score\n",
    "\n",
    "know[\"k_transmission_1\"] = know.apply(lambda row:correct_transmission(row), axis=1)\n",
    "\n",
    "print(know[\"k_transmission_1\"])\n",
    "\n"
   ]
  },
  {
   "cell_type": "code",
   "execution_count": null,
   "metadata": {},
   "outputs": [],
   "source": [
    "know[\"k_protection\"].unique()\n",
    "protection = [\"Avoid shaking hands as much as possible.\",\"Use a condom or other protective barriers.\",\"Limit my sexual partners.\",\"Receiving the HPV vaccine.\"]\n",
    "def correct_protection(row):\n",
    "    ans = row[\"k_protection\"].split(\",\")\n",
    "    ans =[x.strip() for x in ans]\n",
    "    score = 0\n",
    "    if protection[3] in ans:\n",
    "        score+=3\n",
    "    if protection[2] in ans:\n",
    "        score+=2\n",
    "    if protection[1] in ans:\n",
    "        score+=1\n",
    "    return score\n",
    "know[\"k_protection_1\"] = know.apply(lambda x:correct_protection(x), axis=1)\n",
    "know[\"k_protection_1\"]\n",
    "\n"
   ]
  },
  {
   "cell_type": "code",
   "execution_count": 25,
   "metadata": {},
   "outputs": [
    {
     "data": {
      "text/plain": [
       "Index(['k_dxm', 'k_transmission', 'k_protection', 'k_age_range', 'k_heard',\n",
       "       'k_early_sex', 'k_self_limited', 'k_condom', 'k_multiple_sex',\n",
       "       'k_early_symptom', 'k_both_gender', 'k_lowrisk', 'k_gen_wart',\n",
       "       'k_common', 'k_cancer', 'k_symptomatic', 'k_vacc_both', 'k_vacc_effect',\n",
       "       'k_dxf', 'k_dxm_1', 'k_transmission_1', 'k_age_range_1',\n",
       "       'k_protection_1'],\n",
       "      dtype='object')"
      ]
     },
     "execution_count": 25,
     "metadata": {},
     "output_type": "execute_result"
    }
   ],
   "source": [
    "know.columns"
   ]
  },
  {
   "cell_type": "code",
   "execution_count": 41,
   "metadata": {},
   "outputs": [
    {
     "name": "stdout",
     "output_type": "stream",
     "text": [
      "6-10 years old\n",
      "6-10 years old\n",
      "Birth to 5 years old\n",
      "11 to 26 years old\n",
      "hi\n",
      "I am not sure.\n",
      "I am not sure.\n",
      "11 to 26 years old\n",
      "hi\n",
      "11 to 26 years old\n",
      "hi\n",
      "11 to 26 years old\n",
      "hi\n",
      "11 to 26 years old\n",
      "hi\n",
      "There is no age limit or benefit for HPV vaccination\n",
      "hi\n",
      "11 to 26 years old\n",
      "hi\n",
      "11 to 26 years old\n",
      "hi\n",
      "11 to 26 years old\n",
      "hi\n",
      "11 to 26 years old\n",
      "hi\n",
      "11 to 26 years old\n",
      "hi\n",
      "11 to 26 years old\n",
      "hi\n",
      "There is no age limit or benefit for HPV vaccination\n",
      "hi\n",
      "11 to 26 years old\n",
      "hi\n",
      "11 to 26 years old\n",
      "hi\n",
      "11 to 26 years old\n",
      "hi\n",
      "11 to 26 years old\n",
      "hi\n",
      "6-10 years old\n",
      "6-10 years old\n",
      "There is no age limit or benefit for HPV vaccination\n",
      "hi\n",
      "11 to 26 years old\n",
      "hi\n",
      "11 to 26 years old\n",
      "hi\n",
      "There is no age limit or benefit for HPV vaccination\n",
      "hi\n",
      "11 to 26 years old\n",
      "hi\n",
      "I am not sure.\n",
      "11 to 26 years old\n",
      "hi\n",
      "6-10 years old\n",
      "11 to 26 years old\n",
      "hi\n",
      "I am not sure.\n",
      "6-10 years old\n",
      "11 to 26 years old\n",
      "hi\n",
      "There is no age limit or benefit for HPV vaccination\n",
      "hi\n",
      "11 to 26 years old\n",
      "hi\n",
      "11 to 26 years old\n",
      "hi\n",
      "I am not sure.\n",
      "0     None\n",
      "2     None\n",
      "3     None\n",
      "4     None\n",
      "5     None\n",
      "6     None\n",
      "7     None\n",
      "8     None\n",
      "9     None\n",
      "10    None\n",
      "11    None\n",
      "12    None\n",
      "13    None\n",
      "14    None\n",
      "15    None\n",
      "16    None\n",
      "17    None\n",
      "18    None\n",
      "19    None\n",
      "20    None\n",
      "21    None\n",
      "22    None\n",
      "23    None\n",
      "24    None\n",
      "25    None\n",
      "26    None\n",
      "27    None\n",
      "28    None\n",
      "29    None\n",
      "30    None\n",
      "31    None\n",
      "32    None\n",
      "33    None\n",
      "34    None\n",
      "35    None\n",
      "36    None\n",
      "37    None\n",
      "38    None\n",
      "39    None\n",
      "40    None\n",
      "Name: k_age_range_1, dtype: object\n"
     ]
    },
    {
     "name": "stderr",
     "output_type": "stream",
     "text": [
      "/tmp/ipykernel_21538/2271912295.py:13: SettingWithCopyWarning: \n",
      "A value is trying to be set on a copy of a slice from a DataFrame.\n",
      "Try using .loc[row_indexer,col_indexer] = value instead\n",
      "\n",
      "See the caveats in the documentation: https://pandas.pydata.org/pandas-docs/stable/user_guide/indexing.html#returning-a-view-versus-a-copy\n",
      "  know[\"k_age_range_1\"] = know.apply(lambda x:correct_age(x),axis=1)\n"
     ]
    }
   ],
   "source": [
    "age = list(know[\"k_age_range\"].unique())\n",
    "def correct_age(row):\n",
    "    ans = row[\"k_age_range\"]\n",
    "    print(ans)\n",
    "    score = 0\n",
    "    if age[4] in ans:\n",
    "        score-=1\n",
    "    if age[2] in ans:\n",
    "        score+=1\n",
    "    return score\n",
    "\n",
    "know[\"k_age_range_1\"] = know.apply(lambda x:correct_age(x),axis=1)\n",
    "print(know[\"k_age_range_1\"])"
   ]
  },
  {
   "cell_type": "code",
   "execution_count": 20,
   "metadata": {},
   "outputs": [
    {
     "data": {
      "text/plain": [
       "['6-10 years old',\n",
       " 'Birth to 5 years old',\n",
       " '11 to 26 years old',\n",
       " 'I am not sure.',\n",
       " 'There is no age limit or benefit for HPV vaccination']"
      ]
     },
     "execution_count": 20,
     "metadata": {},
     "output_type": "execute_result"
    }
   ],
   "source": [
    "age = list(know[\"k_age_range\"].unique())\n"
   ]
  },
  {
   "cell_type": "code",
   "execution_count": 40,
   "metadata": {},
   "outputs": [
    {
     "data": {
      "text/plain": [
       "(40, 22)"
      ]
     },
     "execution_count": 40,
     "metadata": {},
     "output_type": "execute_result"
    }
   ],
   "source": [
    "know.shape"
   ]
  },
  {
   "cell_type": "code",
   "execution_count": null,
   "metadata": {},
   "outputs": [],
   "source": []
  }
 ],
 "metadata": {
  "kernelspec": {
   "display_name": "Python 3",
   "language": "python",
   "name": "python3"
  },
  "language_info": {
   "codemirror_mode": {
    "name": "ipython",
    "version": 3
   },
   "file_extension": ".py",
   "mimetype": "text/x-python",
   "name": "python",
   "nbconvert_exporter": "python",
   "pygments_lexer": "ipython3",
   "version": "3.10.7"
  },
  "orig_nbformat": 4
 },
 "nbformat": 4,
 "nbformat_minor": 2
}
