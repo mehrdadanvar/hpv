{
 "cells": [
  {
   "cell_type": "code",
   "execution_count": null,
   "metadata": {},
   "outputs": [],
   "source": [
    "import pandas as pd\n",
    "df =  pd.read_csv(\"./hpv/final1.csv\")\n",
    "print(df.shape)\n",
    "without_names = df.columns[df.columns.str.contains(\"Unnamed\")]\n",
    "print(without_names)\n",
    "df.drop(list(without_names),axis=1,inplace=True)\n",
    "# df = df.drop(1,axis=0)\n",
    "belief_names = df.columns[df.columns.str.startswith(\"b_\")]\n",
    "print(belief_names)\n",
    "sample = pd.read_csv(\"./hpv/final1.csv\")\n",
    "sample.columns\n",
    "think = sample.columns[sample.columns.str.contains(\"b_\")]\n",
    "another = sample[list(think)]\n",
    "bel = another"
   ]
  },
  {
   "cell_type": "code",
   "execution_count": null,
   "metadata": {},
   "outputs": [],
   "source": [
    "for col in list(bel.columns):\n",
    "    print(col)\n",
    "    bel.loc[bel[col]== \"Yes\",col]= \"Yes I believe this is true.\"\n",
    "    bel.loc[bel[col]== \"No I believe this is wrong\",col]= \"No I believe this is wrong.\"\n",
    "    bel.loc[bel[col]== \"Yes I believe this is true\",col]= \"Yes I believe this is true.\"\n",
    "    bel.loc[bel[col]== \"Maybe\",col]= \"I am not sure.\"\n",
    "    bel.loc[bel[col]== \"No\",col]= \"No I believe this is wrong.\"\n",
    "    bel.loc[bel[col]== \"No I believe this is a wrong\",col]= \"No I believe this is wrong.\""
   ]
  },
  {
   "cell_type": "code",
   "execution_count": null,
   "metadata": {},
   "outputs": [],
   "source": [
    "bel.columns\n",
    "pap = list(bel[\"b_pap\"].unique())\n",
    "print(pap)\n",
    "def correct_pap(row):\n",
    "    ans = row[\"b_pap\"]\n",
    "    print(ans)\n",
    "    score = 0\n",
    "    if pap[0] in ans or pap[1] in ans or pap[3] in ans:\n",
    "        score+=0\n",
    "    else:\n",
    "        score+=1\n",
    "    print(score)\n",
    "    return score\n",
    "\n",
    "bel[\"b_pap_1\"] = bel.apply(lambda x:correct_pap(x), axis=1)\n",
    "bel[\"b_pap_1\"]\n"
   ]
  },
  {
   "cell_type": "code",
   "execution_count": null,
   "metadata": {},
   "outputs": [],
   "source": [
    "vacc= list(bel[\"b_child_vacc\"].unique())\n",
    "def correct_child_vacc(row):\n",
    "    ans = row[\"b_child_vacc\"]\n",
    "    print(ans)\n",
    "    score = 0\n",
    "    if vacc[0] in ans:\n",
    "        score+=1\n",
    "    return score\n",
    "\n",
    "bel[\"b_child_vacc_1\"] = bel.apply(lambda x:correct_child_vacc(x), axis=1)\n",
    "bel[\"b_child_vacc_1\"]"
   ]
  },
  {
   "cell_type": "code",
   "execution_count": null,
   "metadata": {},
   "outputs": [],
   "source": [
    "dicc= list(bel[\"b_discuss_with_child\"].unique())\n",
    "print(dicc)\n",
    "def correct_dicuss_child(row):\n",
    "    ans = row[\"b_discuss_with_child\"]\n",
    "    print(ans)\n",
    "    score = 0\n",
    "    if dicc[0] in ans:\n",
    "        score+=1\n",
    "    return score\n",
    "\n",
    "bel[\"b_discuss_with_child_1\"] = bel.apply(lambda x:correct_dicuss_child(x), axis=1)\n",
    "bel[\"b_discuss_with_child_1\"]"
   ]
  },
  {
   "cell_type": "code",
   "execution_count": null,
   "metadata": {},
   "outputs": [],
   "source": [
    "dicc= list(bel[\"b_ovx\"].unique())\n",
    "print(dicc)\n",
    "def corrct_ovx(row):\n",
    "    ans = row[\"b_ovx\"]\n",
    "    print(ans)\n",
    "    score = 0\n",
    "    if dicc[1] in ans:\n",
    "        score+=1\n",
    "    return score\n",
    "\n",
    "bel[\"b_ovx_1\"] = bel.apply(lambda x:corrct_ovx(x), axis=1)\n",
    "bel[\"b_ovx_1\"]"
   ]
  },
  {
   "cell_type": "code",
   "execution_count": null,
   "metadata": {},
   "outputs": [],
   "source": [
    "dicc= list(bel[\"b_vacc_new\"].unique())\n",
    "print(dicc)\n",
    "def correct_vacc_new(row):\n",
    "    ans = row[\"b_vacc_new\"]\n",
    "    print(ans)\n",
    "    score = 0\n",
    "    if dicc[2] in ans:\n",
    "        score+=1\n",
    "    return score\n",
    "\n",
    "bel[\"b_vacc_new_1\"] = bel.apply(lambda x:correct_vacc_new(x), axis=1)\n",
    "bel[\"b_vacc_new_1\"]"
   ]
  }
 ],
 "metadata": {
  "kernelspec": {
   "display_name": "Python 3",
   "language": "python",
   "name": "python3"
  },
  "language_info": {
   "codemirror_mode": {
    "name": "ipython",
    "version": 3
   },
   "file_extension": ".py",
   "mimetype": "text/x-python",
   "name": "python",
   "nbconvert_exporter": "python",
   "pygments_lexer": "ipython3",
   "version": "3.10.7"
  },
  "orig_nbformat": 4
 },
 "nbformat": 4,
 "nbformat_minor": 2
}
