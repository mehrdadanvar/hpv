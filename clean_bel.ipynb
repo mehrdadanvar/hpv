{
 "cells": [
  {
   "cell_type": "code",
   "execution_count": null,
   "metadata": {},
   "outputs": [],
   "source": [
    "import pandas as pd\n",
    "df =  pd.read_csv(\"./hpv/final2.csv\")\n",
    "print(df.shape)\n",
    "without_names = df.columns[df.columns.str.contains(\"Unnamed\")]\n",
    "print(without_names)\n",
    "df.drop(list(without_names),axis=1,inplace=True)\n",
    "# df = df.drop(1,axis=0)\n",
    "belief_names = df.columns[df.columns.str.startswith(\"b_\")]\n",
    "print(belief_names)\n",
    "sample = pd.read_csv(\"./hpv/final1.csv\")\n",
    "sample.columns\n",
    "think = sample.columns[sample.columns.str.contains(\"b_\")]\n",
    "another = sample[list(think)]\n",
    "another[\"d_time\"] = df[\"d_time\"]\n",
    "bel = another"
   ]
  },
  {
   "cell_type": "code",
   "execution_count": null,
   "metadata": {},
   "outputs": [],
   "source": [
    "for col in list(bel.columns):\n",
    "    print(col)\n",
    "    bel.loc[bel[col]== \"Yes\",col]= \"Yes I believe this is true.\"\n",
    "    bel.loc[bel[col]== \"No I believe this is wrong\",col]= \"No I believe this is wrong.\"\n",
    "    bel.loc[bel[col]== \"Yes I believe this is true\",col]= \"Yes I believe this is true.\"\n",
    "    bel.loc[bel[col]== \"Maybe\",col]= \"I am not sure.\"\n",
    "    bel.loc[bel[col]== \"No\",col]= \"No I believe this is wrong.\"\n",
    "    bel.loc[bel[col]== \"No I believe this is a wrong\",col]= \"No I believe this is wrong.\""
   ]
  },
  {
   "cell_type": "code",
   "execution_count": null,
   "metadata": {},
   "outputs": [],
   "source": [
    "bel.columns\n",
    "pap = list(bel[\"b_pap\"].unique())\n",
    "print(pap)\n",
    "def correct_pap(row):\n",
    "    ans = row[\"b_pap\"]\n",
    "    print(ans)\n",
    "    score = 0\n",
    "    if pap[0] in ans or pap[1] in ans or pap[3] in ans:\n",
    "        score+=0\n",
    "    else:\n",
    "        score+=1\n",
    "    print(score)\n",
    "    return score\n",
    "\n",
    "bel[\"b_pap_1\"] = bel.apply(lambda x:correct_pap(x), axis=1)\n",
    "bel[\"b_pap_1\"]\n"
   ]
  },
  {
   "cell_type": "code",
   "execution_count": null,
   "metadata": {},
   "outputs": [],
   "source": [
    "vacc= list(bel[\"b_child_vacc\"].unique())\n",
    "print(vacc)\n",
    "def correct_child_vacc(row):\n",
    "    ans = row[\"b_child_vacc\"]\n",
    "    print(ans)\n",
    "    score = 0\n",
    "    if vacc[0] in ans:\n",
    "        score+=1\n",
    "    return score\n",
    "\n",
    "bel[\"b_child_vacc_1\"] = bel.apply(lambda x:correct_child_vacc(x), axis=1)\n",
    "bel[\"b_child_vacc_1\"]"
   ]
  },
  {
   "cell_type": "code",
   "execution_count": null,
   "metadata": {},
   "outputs": [],
   "source": [
    "dicc= list(bel[\"b_discuss_with_child\"].unique())\n",
    "print(dicc)\n",
    "def correct_dicuss_child(row):\n",
    "    ans = row[\"b_discuss_with_child\"]\n",
    "    print(ans)\n",
    "    score = 0\n",
    "    if dicc[0] in ans:\n",
    "        score+=1\n",
    "    return score\n",
    "\n",
    "bel[\"b_discuss_with_child_1\"] = bel.apply(lambda x:correct_dicuss_child(x), axis=1)\n",
    "bel[\"b_discuss_with_child_1\"]"
   ]
  },
  {
   "cell_type": "code",
   "execution_count": null,
   "metadata": {},
   "outputs": [],
   "source": [
    "dicc= list(bel[\"b_ovx\"].unique())\n",
    "print(dicc)\n",
    "def corrct_ovx(row):\n",
    "    ans = row[\"b_ovx\"]\n",
    "    print(ans)\n",
    "    score = 0\n",
    "    if dicc[1] in ans:\n",
    "        score+=1\n",
    "    return score\n",
    "\n",
    "bel[\"b_ovx_1\"] = bel.apply(lambda x:corrct_ovx(x), axis=1)\n",
    "bel[\"b_ovx_1\"]"
   ]
  },
  {
   "cell_type": "code",
   "execution_count": null,
   "metadata": {},
   "outputs": [],
   "source": [
    "dicc= list(bel[\"b_vacc_new\"].unique())\n",
    "print(dicc)\n",
    "def correct_vacc_new(row):\n",
    "    ans = row[\"b_vacc_new\"]\n",
    "    print(ans)\n",
    "    score = 0\n",
    "    if dicc[2] in ans:\n",
    "        score+=1\n",
    "    return score\n",
    "\n",
    "bel[\"b_vacc_new_1\"] = bel.apply(lambda x:correct_vacc_new(x), axis=1)\n",
    "bel[\"b_vacc_new_1\"]"
   ]
  },
  {
   "cell_type": "code",
   "execution_count": null,
   "metadata": {},
   "outputs": [],
   "source": [
    "dicc= list(bel[\"b_vac_danger\"].unique())\n",
    "print(dicc)\n",
    "def correct_vaccdanger(row):\n",
    "    ans = row[\"b_vac_danger\"]\n",
    "    print(ans)\n",
    "    score = 0\n",
    "    if dicc[2] in ans:\n",
    "        score+=1\n",
    "    return score\n",
    "\n",
    "bel[\"b_vac_danger_1\"] = bel.apply(lambda x:correct_vaccdanger(x), axis=1)\n",
    "bel[\"b_vac_danger_1\"]"
   ]
  },
  {
   "cell_type": "code",
   "execution_count": null,
   "metadata": {},
   "outputs": [],
   "source": [
    "dicc= list(bel[\"b_child_sex\"].unique())\n",
    "print(dicc)\n",
    "def correct_childsex(row):\n",
    "    ans = row[\"b_child_sex\"]\n",
    "    print(ans)\n",
    "    score = 0\n",
    "    if dicc[1] in ans:\n",
    "        score+=1\n",
    "    return score\n",
    "\n",
    "bel[\"b_child_sex_1\"] = bel.apply(lambda x:correct_childsex(x), axis=1)\n",
    "bel[\"b_child_sex_1\"]"
   ]
  },
  {
   "cell_type": "code",
   "execution_count": null,
   "metadata": {},
   "outputs": [],
   "source": [
    "bel[\"b_men_need\"] = bel[\"b_men_need\"].fillna(\"I am not sure.\")\n",
    "dicc= list(bel[\"b_men_need\"].unique())\n",
    "print(dicc)\n",
    "def correct_menneed(row):\n",
    "    ans = row[\"b_men_need\"]\n",
    "    print(ans)\n",
    "    score = 0\n",
    "    if dicc[1] in ans:\n",
    "        score+=1\n",
    "    return score\n",
    "\n",
    "bel[\"b_men_need_1\"] = bel.apply(lambda x:correct_menneed(x), axis=1)\n",
    "bel[\"b_men_need_1\"]"
   ]
  },
  {
   "cell_type": "code",
   "execution_count": null,
   "metadata": {},
   "outputs": [],
   "source": [
    "bel[\"b_sex_vacc_effect\"] = bel[\"b_sex_vacc_effect\"].fillna(\"I am not sure.\")\n",
    "dicc= list(bel[\"b_sex_vacc_effect\"].unique())\n",
    "print(dicc)\n",
    "def coorect_sexvacceffect(row):\n",
    "    ans = row[\"b_sex_vacc_effect\"]\n",
    "    print(ans)\n",
    "    score = 0\n",
    "    if dicc[1] in ans:\n",
    "        score+=1\n",
    "    return score\n",
    "\n",
    "bel[\"b_sex_vacc_effect_1\"] = bel.apply(lambda x:coorect_sexvacceffect(x), axis=1)\n",
    "bel[\"b_sex_vacc_effect_1\"]"
   ]
  },
  {
   "cell_type": "code",
   "execution_count": null,
   "metadata": {},
   "outputs": [],
   "source": [
    "bel[\"b_antibody\"] = bel[\"b_antibody\"].fillna(\"I am not sure.\")\n",
    "dicc= list(bel[\"b_antibody\"].unique())\n",
    "print(dicc)\n",
    "def coorect_antibody(row):\n",
    "    ans = row[\"b_antibody\"]\n",
    "    print(ans)\n",
    "    score = 0\n",
    "    if dicc[2] in ans:\n",
    "        score+=1\n",
    "    return score\n",
    "bel[\"b_antibody_1\"] = bel.apply(lambda x:coorect_antibody(x), axis=1)\n",
    "bel[\"b_antibody_1\"]"
   ]
  },
  {
   "cell_type": "code",
   "execution_count": null,
   "metadata": {},
   "outputs": [],
   "source": [
    "bel[\"b_vacc_risky_sex\"] = bel[\"b_vacc_risky_sex\"].fillna(\"I am not sure.\")\n",
    "dicc= list(bel[\"b_vacc_risky_sex\"].unique())\n",
    "print(dicc)\n",
    "def correct_vacc_riskysex(row):\n",
    "    ans = row[\"b_vacc_risky_sex\"]\n",
    "    print(ans)\n",
    "    score = 0\n",
    "    if dicc[1] in ans:\n",
    "        score+=1\n",
    "    return score\n",
    "\n",
    "bel[\"b_vacc_risky_sex_1\"] = bel.apply(lambda x:correct_vacc_riskysex(x), axis=1)\n",
    "bel[\"b_vacc_risky_sex_1\"]"
   ]
  },
  {
   "cell_type": "code",
   "execution_count": null,
   "metadata": {},
   "outputs": [],
   "source": [
    "bel[\"b_serious\"] = bel[\"b_serious\"].fillna(\"I am not sure.\")\n",
    "dicc= list(bel[\"b_serious\"].unique())\n",
    "print(dicc)\n",
    "def correct_serious(row):\n",
    "    ans = row[\"b_serious\"]\n",
    "    print(ans)\n",
    "    score = 0\n",
    "    if dicc[1] in ans:\n",
    "        score+=1\n",
    "    return score\n",
    "\n",
    "bel[\"b_serious_1\"] = bel.apply(lambda x:correct_serious(x), axis=1)\n",
    "bel[\"b_serious_1\"]"
   ]
  },
  {
   "cell_type": "code",
   "execution_count": null,
   "metadata": {},
   "outputs": [],
   "source": [
    "bel[\"b_vacc_cancer_prevent\"] = bel[\"b_vacc_cancer_prevent\"].fillna(\"I am not sure.\")\n",
    "dicc= list(bel[\"b_vacc_cancer_prevent\"].unique())\n",
    "print(dicc)\n",
    "def correct_cancer_prevent(row):\n",
    "    ans = row[\"b_vacc_cancer_prevent\"]\n",
    "    print(ans)\n",
    "    score = 0\n",
    "    if dicc[1] in ans:\n",
    "        score+=1\n",
    "    return score\n",
    "\n",
    "bel[\"b_vacc_cancer_prevent_1\"] = bel.apply(lambda x:correct_cancer_prevent(x), axis=1)\n",
    "bel[\"b_vacc_cancer_prevent_1\"]\n"
   ]
  },
  {
   "cell_type": "code",
   "execution_count": null,
   "metadata": {},
   "outputs": [],
   "source": [
    "bel[\"b_discuss_school\"] = bel[\"b_discuss_school\"].fillna(\"I am not sure.\")\n",
    "dicc= list(bel[\"b_discuss_school\"].unique())\n",
    "print(dicc)\n",
    "def correct_scholl(row):\n",
    "    ans = row[\"b_discuss_school\"]\n",
    "    print(ans)\n",
    "    score = 0\n",
    "    if dicc[1] in ans:\n",
    "        score+=1\n",
    "    return score\n",
    "\n",
    "bel[\"b_discuss_school_1\"] = bel.apply(lambda x:correct_scholl(x), axis=1)\n",
    "bel[\"b_discuss_school_1\"]\n"
   ]
  },
  {
   "cell_type": "code",
   "execution_count": null,
   "metadata": {},
   "outputs": [],
   "source": [
    "bel[\"b_will_vacc_child\"] = bel[\"b_will_vacc_child\"].fillna(\"I am not sure.\")\n",
    "dicc= list(bel[\"b_will_vacc_child\"].unique())\n",
    "print(dicc)\n",
    "def correct_vaccchild(row):\n",
    "    ans = row[\"b_will_vacc_child\"]\n",
    "    print(ans)\n",
    "    score = 0\n",
    "    if dicc[1] in ans:\n",
    "        score+=1\n",
    "    return score\n",
    "\n",
    "bel[\"b_will_vacc_child_1\"] = bel.apply(lambda x:correct_vaccchild(x), axis=1)\n",
    "bel[\"b_will_vacc_child_1\"]"
   ]
  },
  {
   "cell_type": "code",
   "execution_count": null,
   "metadata": {},
   "outputs": [],
   "source": [
    "bel.columns"
   ]
  },
  {
   "cell_type": "code",
   "execution_count": null,
   "metadata": {},
   "outputs": [],
   "source": [
    "# bel[\"b_finalscore\"] = 1\n",
    "\n",
    "# selected = bel[list(bel.columns.str.endswith(\"_1\"))]\n",
    "# print(selected)\n",
    "selected = [x for x in list(bel.columns) if x.endswith(\"_1\")]\n",
    "\n",
    "sample = bel[selected]\n",
    "print(sample.columns)\n",
    "\n",
    "bel[\"b_finalscore\"] = sample.sum(axis=1)\n",
    "print(bel[\"b_finalscore\"])"
   ]
  },
  {
   "cell_type": "code",
   "execution_count": null,
   "metadata": {},
   "outputs": [],
   "source": [
    "bel.to_csv(\"belscores.csv\",index=False)\n",
    "print(\"done!\")\n"
   ]
  },
  {
   "cell_type": "code",
   "execution_count": 27,
   "metadata": {},
   "outputs": [
    {
     "data": {
      "text/plain": [
       "Index(['b_child_vacc', 'b_discuss_with_child', 'b_pap', 'b_ovx', 'b_vacc_new',\n",
       "       'b_vac_danger', 'b_child_sex', 'b_exposure', 'b_men_need',\n",
       "       'b_sex_vacc_effect', 'b_antibody', 'b_vacc_risky_sex', 'b_serious',\n",
       "       'b_vacc_cancer_prevent', 'b_discuss_school', 'b_will_vacc_child',\n",
       "       'd_time', 'b_pap_1', 'b_child_vacc_1', 'b_discuss_with_child_1',\n",
       "       'b_ovx_1', 'b_vacc_new_1', 'b_vac_danger_1', 'b_child_sex_1',\n",
       "       'b_men_need_1', 'b_sex_vacc_effect_1', 'b_antibody_1',\n",
       "       'b_vacc_risky_sex_1', 'b_serious_1', 'b_vacc_cancer_prevent_1',\n",
       "       'b_discuss_school_1', 'b_will_vacc_child_1', 'b_finalscore'],\n",
       "      dtype='object')"
      ]
     },
     "execution_count": 27,
     "metadata": {},
     "output_type": "execute_result"
    }
   ],
   "source": [
    "bel.columns"
   ]
  }
 ],
 "metadata": {
  "kernelspec": {
   "display_name": "Python 3",
   "language": "python",
   "name": "python3"
  },
  "language_info": {
   "codemirror_mode": {
    "name": "ipython",
    "version": 3
   },
   "file_extension": ".py",
   "mimetype": "text/x-python",
   "name": "python",
   "nbconvert_exporter": "python",
   "pygments_lexer": "ipython3",
   "version": "3.10.7"
  },
  "orig_nbformat": 4
 },
 "nbformat": 4,
 "nbformat_minor": 2
}
